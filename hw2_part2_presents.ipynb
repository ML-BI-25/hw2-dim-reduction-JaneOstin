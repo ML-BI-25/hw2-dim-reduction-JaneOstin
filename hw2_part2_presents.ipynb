{
 "cells": [
  {
   "cell_type": "markdown",
   "metadata": {},
   "source": [
    "# Задание: Найдите смешарика? покемона? собачку? бургер? (50 баллов)\n",
    "\n",
    "## Описание\n",
    "Вы получили набор данных, содержащий точки в n-мерном пространстве. Для вас в этом наборе данных был спрятан подарочек. Ваша задача — выяснить, что именно спряталось внутри датасета.\n",
    "\n",
    "## Что нужно сделать?\n",
    "1️⃣ Визуализируйте данные с помощью различных методов понижения размерности:\n",
    "* PCA\n",
    "* t-SNE (при необходимости с подробом perplexity)\n",
    "* UMAP (при необходимости с разными параметрами min_dist и n_neighbors)\n",
    "\n",
    "2️⃣ Попробуйте различные способы окраски точек, чтобы лучше выявить скрытую структуру. Например:\n",
    "* Окрашивать точки по координатам (X, Y, Z)\n",
    "* Группировать точки по найденным кластерам\n",
    "* Рассматривать отдельные кластера точек\n",
    "\n",
    "3️⃣ Ответьте на вопросы:\n",
    "* Какая структура спрятана в данных? Визуализируйте подарочек так, чтобы его было хорошо видно. (30 баллов)\n",
    "* Какие действия мы проделали с данными чтобы спрятать подарочек? (20 баллов)"
   ]
  },
  {
   "cell_type": "code",
   "execution_count": null,
   "metadata": {},
   "outputs": [],
   "source": [
    "import pandas as pd\n",
    "import numpy as np\n",
    "import random\n",
    "import seaborn as sns\n",
    "import matplotlib.pyplot as plt\n",
    "\n",
    "from sklearn.preprocessing import StandardScaler\n",
    "from sklearn.decomposition import PCA\n",
    "from sklearn.manifold import TSNE\n",
    "from umap import UMAP"
   ]
  },
  {
   "cell_type": "code",
   "execution_count": null,
   "metadata": {},
   "outputs": [],
   "source": [
    "hidden_present_df = pd.read_csv('../data/hw2_tricks.csv')"
   ]
  },
  {
   "cell_type": "code",
   "execution_count": null,
   "metadata": {},
   "outputs": [],
   "source": [
    "# визуализируйте ваш датасет, посомтрите на него"
   ]
  },
  {
   "cell_type": "code",
   "execution_count": null,
   "metadata": {},
   "outputs": [],
   "source": [
    "# используйте методы уменьшения размерности, чтобы найти подарок"
   ]
  },
  {
   "cell_type": "code",
   "execution_count": null,
   "metadata": {},
   "outputs": [],
   "source": [
    "# опишите, как мы его спрятали"
   ]
  },
  {
   "cell_type": "markdown",
   "metadata": {},
   "source": [
    "## Ура! Теперь точно все! Вы сделали всю вторую домашку!\n",
    "## В качестве бонуса на 10 баллов приложите самую красивую фотку/картинку/мем с объектом в вашем подарочке:)\n",
    "\n",
    "## Место для рефлексии. Как вам домашка? Что понравилось, что не понравилось? Чего нам поменять?\n",
    "\n",
    "## Важное напоминание! На следующей неделе весна! Расскажите, какое ваше самое любимое занятие весной? Я начну -- люблю кататься на велике:)"
   ]
  },
  {
   "cell_type": "code",
   "execution_count": null,
   "metadata": {},
   "outputs": [],
   "source": []
  }
 ],
 "metadata": {
  "kernelspec": {
   "display_name": "ENV_NAME",
   "language": "python",
   "name": "env_name"
  },
  "language_info": {
   "codemirror_mode": {
    "name": "ipython",
    "version": 3
   },
   "file_extension": ".py",
   "mimetype": "text/x-python",
   "name": "python",
   "nbconvert_exporter": "python",
   "pygments_lexer": "ipython3",
   "version": "3.6.10"
  }
 },
 "nbformat": 4,
 "nbformat_minor": 5
}
