{
 "cells": [
  {
   "cell_type": "code",
   "execution_count": 15,
   "metadata": {},
   "outputs": [],
   "source": [
    "import warnings\n",
    "import pandas as pd\n",
    "import numpy as np\n",
    "import random\n",
    "import seaborn as sns\n",
    "import matplotlib.pyplot as plt\n",
    "\n",
    "from sklearn.preprocessing import StandardScaler\n",
    "from sklearn.decomposition import PCA\n",
    "from sklearn.manifold import TSNE\n",
    "from umap import UMAP"
   ]
  },
  {
   "cell_type": "markdown",
   "metadata": {},
   "source": [
    "Hints. Для работы с UMAP вам необходимо установить библиотеку umap-learn"
   ]
  },
  {
   "cell_type": "markdown",
   "metadata": {},
   "source": [
    "## Аннотация клеточных типов (100 баллов)"
   ]
  },
  {
   "cell_type": "markdown",
   "metadata": {},
   "source": [
    "В этом задании вам предстоит немного поработать с данными проточной цитометрии. Данный метод позволяет изучать единичные клетки в суспензии на основе поверхностной экспрессии различных маркеров, а также косвенно говорить о размере и гранулярности клеток. Каждая строка в данных соответствует информации об одной клетке, столбцы **FSC-A**, **SSC-A** косвенным образом свидетельствуют о размере клеток, остальные показывают интенсивность флуоресценции различных поверхностных маркеров. \n",
    "\n",
    "В этом задании вам необходимо провести EDA, использовать алгоритмы снижения размерности и в пространстве сниженной размерности проаннотировать клеточные типы. Вам дана информация о пренадлежности каждой клетки к конкретному классу (labels). Вашей задачей будет соотнести каждый класс к конкретному типу иммунных клеток по экспрессии поверхностных маркеров, измеренных с помощью проточной цитометрии.\n",
    "\n",
    "Для тех, кто мало знаком с маркерами иммунных клеток, оставляем полезную [ссылку](https://www.cellsignal.com/pathways/immune-cell-markers-human)."
   ]
  },
  {
   "cell_type": "markdown",
   "metadata": {},
   "source": [
    "### EDA (20 баллов)\n",
    "\n",
    "Проведите предварительный EDA:\n",
    "\n",
    "1. Посмотрите на данные (можно попробовать метод `describe`)\n",
    "2. Сколько у нас клеток / признаков\n",
    "3. Постройте распределения каждого признака (есть ли очевидные выбросы?). P.S. используйте разные типы графиков, чтобы увидеть выбросы (боксплоты, гистограммы и т.д.)\n",
    "4. Если вы решаете удалить какие-либо клетки, пожалуйста, прокомментируете какие именно клетки и почему вы удаляете. Это можно сделать графически. "
   ]
  },
  {
   "cell_type": "code",
   "execution_count": 5,
   "metadata": {},
   "outputs": [],
   "source": [
    "fc_data = pd.read_csv(\"../data/flow_c_data.csv\", index_col=0)\n",
    "labels = pd.read_csv(\"../data/labels.csv\", index_col=0)"
   ]
  },
  {
   "cell_type": "code",
   "execution_count": 20,
   "metadata": {},
   "outputs": [],
   "source": [
    "#your code for EDA"
   ]
  },
  {
   "cell_type": "markdown",
   "metadata": {},
   "source": [
    "### Анализ (40 баллов)\n",
    "\n",
    "Теперь, когда вы провели ЕДА и у вас на руках есть ваш финальный процессированный датасет, можно приступить к анализу. В данном датасете клеточных маркеров не очень много (кстати, подумайте, почему в проточной цитометрии количество этих маркеров довольно ограничено?) и можно было бы нарисовать графики, на которых мы бы попарно сравнивали интенсивность флуоресценции различных маркеров. Однако, теперь мы уже знаем о методах снижения размерности. А значит, мы можем перейти от нашего n-мерного датасета к 2 измерениям. \n",
    "\n",
    "В качестве следующего задания вам предлагается сделать PCA, t-SNE и UMAP на этом датасете."
   ]
  },
  {
   "cell_type": "code",
   "execution_count": 21,
   "metadata": {},
   "outputs": [],
   "source": [
    "scaler = StandardScaler()\n",
    "\n",
    "#your code is here"
   ]
  },
  {
   "cell_type": "markdown",
   "metadata": {},
   "source": [
    "P.S. По умолчанию мы говорил, что данные нужно шкалировать. Если у вас хватит времени, поиграйте с датасетом и попробуйте подать на вход как шкалированные, так и нешкалированные данные. Какой из алгоритмов будет страдать больше всего и почему?"
   ]
  },
  {
   "cell_type": "markdown",
   "metadata": {},
   "source": [
    "#### PCA (10 баллов)\n",
    "Постройте **PCA** по числовым переменным, а затем покрасьте его по клеточным типам.  "
   ]
  },
  {
   "cell_type": "code",
   "execution_count": null,
   "metadata": {},
   "outputs": [],
   "source": [
    "#your code is here"
   ]
  },
  {
   "cell_type": "markdown",
   "metadata": {},
   "source": [
    "#### t-SNE (10 баллов)\n",
    "Постройте **t-SNE** по числовым переменным, а затем покрасьте его по клеточным типам. Если будет интересно, можно [почитать](https://www.jmlr.org/papers/volume9/vandermaaten08a/vandermaaten08a.pdf)\n",
    "\n",
    "Посмотрите на разные значения параметра perplexity. Какой лучше всего подходит для вашего датасета? **(доп. 10 баллов)**"
   ]
  },
  {
   "cell_type": "code",
   "execution_count": null,
   "metadata": {},
   "outputs": [],
   "source": [
    "#your code is here"
   ]
  },
  {
   "cell_type": "markdown",
   "metadata": {},
   "source": [
    "#### UMAP (10 баллов)\n",
    "Постройте **UMAP** по числовым переменным, а затем покрасьте его по клеточным типам. Если будет интересно, можно [почитать](https://arxiv.org/pdf/1802.03426)\n",
    "\n",
    "Посмотрите на разные значения параметра min_dist и k_neighbors. Какие лучше всего подходят для вашего датасета? **(доп. 10 баллов)**"
   ]
  },
  {
   "cell_type": "code",
   "execution_count": null,
   "metadata": {},
   "outputs": [],
   "source": [
    "#your code is here"
   ]
  },
  {
   "cell_type": "markdown",
   "metadata": {},
   "source": [
    "Какой из методов, на ваш взгляд, наилучшим образом отражает взаимоотношения между различными клетками в данном датасете? **(10 баллов)**"
   ]
  },
  {
   "cell_type": "code",
   "execution_count": 22,
   "metadata": {},
   "outputs": [],
   "source": [
    "#your answer is here"
   ]
  },
  {
   "cell_type": "markdown",
   "metadata": {},
   "source": [
    "#### Немного усложним (10 баллов)\n",
    "Более того, в некоторых случаях, когда количество ваших переменных очень велико, можно прибегать к последовательному применению линейных и нелинейных методов снижения размерности. Так, к примеру, можно сначала использовать PCA, а затем на полученных координатах пространства сниженной размерности инициализировать t-SNE или UMAP. В следующей части мы предлагаем вам использовать уже готовый код и сравнить полученные ранее результаты с новыми.\n",
    "\n",
    "Кратко опишите результаты сравнения, которое вы провели. Подкрепите их графиками. "
   ]
  },
  {
   "cell_type": "code",
   "execution_count": null,
   "metadata": {},
   "outputs": [],
   "source": [
    "def plot_tsne(data, n_iter=1000, \n",
    "              perplexity=40, color=None):\n",
    "    \"\"\"\n",
    "    Функция для отрисовки результатов работы t-SNE\n",
    "        :param data: таблица объекты х признаки\n",
    "        :param n_iter: число итераций градиентного спуска,\n",
    "            может быть полезно увеличить, чтобы получить результаты получше\n",
    "        :param perplexity: \n",
    "        :param color: np.array[n_samples] с переменной,\n",
    "            которой мы хотим покрасить наши наблюдения\n",
    "        :return tsne_emb: np.array[n_samples, 2] - результаты работы t-SNE\n",
    "    \"\"\"\n",
    "    \n",
    "    # Сначала сделаем PCA, так как это хорошее начальное приближение для t-SNE\n",
    "    # позволит алгоритму быстрее сойтись\n",
    "    pca = PCA().fit(data)\n",
    "    pca_embedding = pca.transform(data)\n",
    "    \n",
    "    # Запустим t-SNE, он выдаст нам для каждого объекта по 2 числа, \n",
    "    # которые мы сможем нарисовать\n",
    "    tnse = TSNE(n_components=2, init=pca_embedding[:, :2], n_jobs=-1,\n",
    "                n_iter=n_iter, perplexity=perplexity)\n",
    "    tsne_embedding = tnse.fit_transform(pca_embedding)\n",
    "    \n",
    "    sns.scatterplot(x=tsne_embedding[:, 0],\n",
    "                    y=tsne_embedding[:, 1],\n",
    "                    hue=color.values.reshape(-1), palette=\"colorblind\")\n",
    "    plt.xlabel(\"$TSNE_1$\", fontsize=18)\n",
    "    plt.ylabel(\"$TSNE_2$\", fontsize=18)\n",
    "    \n",
    "    # Вернем также результаты t-SNE, так как, если потом захотим перестроить картинку,\n",
    "    # в таком случае нам не придется ждать заново, просто нарисуем новую с готовыми данными\n",
    "    \n",
    "    return tsne_embedding"
   ]
  },
  {
   "cell_type": "code",
   "execution_count": null,
   "metadata": {},
   "outputs": [],
   "source": [
    "tsne_res = plot_tsne(fc_data, color=labels)"
   ]
  },
  {
   "cell_type": "code",
   "execution_count": 23,
   "metadata": {},
   "outputs": [],
   "source": [
    "#your answer is here"
   ]
  },
  {
   "cell_type": "markdown",
   "metadata": {},
   "source": [
    "#### Немного иммунологии (30 баллов)\n",
    "Отлично, мы определились с методом снижения размерности. Теперь попробуем определить конкретные клеточные типы, которые есть в нашем датасете. \n",
    "\n",
    "Для этого мы нарисуем PCA/t-SNE/UMAP (что на ваш взгляд лучше выбрать?) и покрасим точки в зависимости от интенсивности экспрессии поверхностных маркеров **(20 баллов)**. В датасете присутствуют следующие типы клеток:\n",
    "\n",
    "* B-клетки\n",
    "* Т-клетки\n",
    "* Моноциты и дендритные клетки\n",
    "* NK-клетки\n",
    "* NKT-клетки\n",
    "\n",
    "Вам нужно будет выяснить, какие клетки экспрессируют определенные маркеры и присвоить каждому кластеру один из типов клеток. Можно обратиться к информации по экспрессии [маркеров](https://www.cellsignal.com/pathways/immune-cell-markers-human).\n",
    "\n",
    "Для каждого из типов клеток выберите один или два маркера и визуализируйте экспрессию этих генов. У вас должна получиться картинка, где ярким цветом будут обозначены те клетки, в которых экспрессия очень велика, а менее ярким -- экспрессия меньше. Такие визуализации очень часто используются в анализе данных single-cell. Можете погуглить себе парочку примеров:)"
   ]
  },
  {
   "cell_type": "code",
   "execution_count": null,
   "metadata": {},
   "outputs": [],
   "source": [
    "# your code is here"
   ]
  },
  {
   "cell_type": "markdown",
   "metadata": {},
   "source": [
    "Как распредлены ваши типы клеток по количеству? **(5 баллов)**"
   ]
  },
  {
   "cell_type": "code",
   "execution_count": 1,
   "metadata": {},
   "outputs": [],
   "source": [
    "# your code is here"
   ]
  },
  {
   "cell_type": "markdown",
   "metadata": {},
   "source": [
    "Дальше дело за вами, нужнов определить клеточный тип для каждого кластера и записать их как значения в словаре: **(5 баллов)**"
   ]
  },
  {
   "cell_type": "code",
   "execution_count": 52,
   "metadata": {},
   "outputs": [],
   "source": [
    "cell_type_cluster_map = {0: \"Celltype1\", \n",
    "                         1: \"Celltype2\", \n",
    "                         2: \"Celltype3\", \n",
    "                         3: \"Celltype4\",\n",
    "                         4: \"Celltype5\"}"
   ]
  },
  {
   "cell_type": "code",
   "execution_count": 53,
   "metadata": {},
   "outputs": [],
   "source": [
    "labels[\"celltype\"] = labels[\"celltype\"].map(cell_type_cluster_map)"
   ]
  },
  {
   "cell_type": "markdown",
   "metadata": {},
   "source": [
    "Можно еще порисовать)\n",
    "\n",
    "**Отлично! Вы дошли до конца первой части этой домашки!**\n",
    "\n",
    "Поделитесь с нами вашими ощущениями об этой домашке, если хотите. Было это сложно или легко, понятно или запутанно, долго или быстро. Напишите что нового вы узнали."
   ]
  },
  {
   "cell_type": "code",
   "execution_count": null,
   "metadata": {},
   "outputs": [],
   "source": [
    "#that's your turn"
   ]
  }
 ],
 "metadata": {
  "kernelspec": {
   "display_name": "Python 3",
   "language": "python",
   "name": "python3"
  },
  "language_info": {
   "codemirror_mode": {
    "name": "ipython",
    "version": 3
   },
   "file_extension": ".py",
   "mimetype": "text/x-python",
   "name": "python",
   "nbconvert_exporter": "python",
   "pygments_lexer": "ipython3",
   "version": "3.6.10"
  },
  "vscode": {
   "interpreter": {
    "hash": "7bca8b4a9c220bcb71dae3ebec7512dd90334e52ccf979eda246cb5780584c96"
   }
  }
 },
 "nbformat": 4,
 "nbformat_minor": 5
}
